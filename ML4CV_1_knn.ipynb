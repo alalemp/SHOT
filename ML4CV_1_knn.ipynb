{
  "nbformat": 4,
  "nbformat_minor": 0,
  "metadata": {
    "colab": {
      "name": "ML4CV_1_knn.ipynb",
      "provenance": [],
      "collapsed_sections": []
    },
    "kernelspec": {
      "name": "python3",
      "display_name": "Python 3"
    },
    "widgets": {
      "application/vnd.jupyter.widget-state+json": {
        "4f343d71ee4b4e48be5b71b555cc7663": {
          "model_module": "@jupyter-widgets/controls",
          "model_name": "HBoxModel",
          "state": {
            "_view_name": "HBoxView",
            "_dom_classes": [],
            "_model_name": "HBoxModel",
            "_view_module": "@jupyter-widgets/controls",
            "_model_module_version": "1.5.0",
            "_view_count": null,
            "_view_module_version": "1.5.0",
            "box_style": "",
            "layout": "IPY_MODEL_867476da16ba4843995acf3943b1983e",
            "_model_module": "@jupyter-widgets/controls",
            "children": [
              "IPY_MODEL_4d82b81541634a6cbc18445375946d11",
              "IPY_MODEL_c56323f9f4e24857a9a0faa5f96969a5"
            ]
          }
        },
        "867476da16ba4843995acf3943b1983e": {
          "model_module": "@jupyter-widgets/base",
          "model_name": "LayoutModel",
          "state": {
            "_view_name": "LayoutView",
            "grid_template_rows": null,
            "right": null,
            "justify_content": null,
            "_view_module": "@jupyter-widgets/base",
            "overflow": null,
            "_model_module_version": "1.2.0",
            "_view_count": null,
            "flex_flow": null,
            "width": null,
            "min_width": null,
            "border": null,
            "align_items": null,
            "bottom": null,
            "_model_module": "@jupyter-widgets/base",
            "top": null,
            "grid_column": null,
            "overflow_y": null,
            "overflow_x": null,
            "grid_auto_flow": null,
            "grid_area": null,
            "grid_template_columns": null,
            "flex": null,
            "_model_name": "LayoutModel",
            "justify_items": null,
            "grid_row": null,
            "max_height": null,
            "align_content": null,
            "visibility": null,
            "align_self": null,
            "height": null,
            "min_height": null,
            "padding": null,
            "grid_auto_rows": null,
            "grid_gap": null,
            "max_width": null,
            "order": null,
            "_view_module_version": "1.2.0",
            "grid_template_areas": null,
            "object_position": null,
            "object_fit": null,
            "grid_auto_columns": null,
            "margin": null,
            "display": null,
            "left": null
          }
        },
        "4d82b81541634a6cbc18445375946d11": {
          "model_module": "@jupyter-widgets/controls",
          "model_name": "FloatProgressModel",
          "state": {
            "_view_name": "ProgressView",
            "style": "IPY_MODEL_5659fb3ea2b240dcb0a5f5b99bb2c1cd",
            "_dom_classes": [],
            "description": "",
            "_model_name": "FloatProgressModel",
            "bar_style": "success",
            "max": 1,
            "_view_module": "@jupyter-widgets/controls",
            "_model_module_version": "1.5.0",
            "value": 1,
            "_view_count": null,
            "_view_module_version": "1.5.0",
            "orientation": "horizontal",
            "min": 0,
            "description_tooltip": null,
            "_model_module": "@jupyter-widgets/controls",
            "layout": "IPY_MODEL_caf6f7ee1fca4fc18357a15d9db6d5bc"
          }
        },
        "c56323f9f4e24857a9a0faa5f96969a5": {
          "model_module": "@jupyter-widgets/controls",
          "model_name": "HTMLModel",
          "state": {
            "_view_name": "HTMLView",
            "style": "IPY_MODEL_032d9088cefe4a3582d9e213cfc94c33",
            "_dom_classes": [],
            "description": "",
            "_model_name": "HTMLModel",
            "placeholder": "​",
            "_view_module": "@jupyter-widgets/controls",
            "_model_module_version": "1.5.0",
            "value": " 170500096/? [00:09&lt;00:00, 18447266.31it/s]",
            "_view_count": null,
            "_view_module_version": "1.5.0",
            "description_tooltip": null,
            "_model_module": "@jupyter-widgets/controls",
            "layout": "IPY_MODEL_01b5796b6b974a4fbf5056f5dd71c79f"
          }
        },
        "5659fb3ea2b240dcb0a5f5b99bb2c1cd": {
          "model_module": "@jupyter-widgets/controls",
          "model_name": "ProgressStyleModel",
          "state": {
            "_view_name": "StyleView",
            "_model_name": "ProgressStyleModel",
            "description_width": "initial",
            "_view_module": "@jupyter-widgets/base",
            "_model_module_version": "1.5.0",
            "_view_count": null,
            "_view_module_version": "1.2.0",
            "bar_color": null,
            "_model_module": "@jupyter-widgets/controls"
          }
        },
        "caf6f7ee1fca4fc18357a15d9db6d5bc": {
          "model_module": "@jupyter-widgets/base",
          "model_name": "LayoutModel",
          "state": {
            "_view_name": "LayoutView",
            "grid_template_rows": null,
            "right": null,
            "justify_content": null,
            "_view_module": "@jupyter-widgets/base",
            "overflow": null,
            "_model_module_version": "1.2.0",
            "_view_count": null,
            "flex_flow": null,
            "width": null,
            "min_width": null,
            "border": null,
            "align_items": null,
            "bottom": null,
            "_model_module": "@jupyter-widgets/base",
            "top": null,
            "grid_column": null,
            "overflow_y": null,
            "overflow_x": null,
            "grid_auto_flow": null,
            "grid_area": null,
            "grid_template_columns": null,
            "flex": null,
            "_model_name": "LayoutModel",
            "justify_items": null,
            "grid_row": null,
            "max_height": null,
            "align_content": null,
            "visibility": null,
            "align_self": null,
            "height": null,
            "min_height": null,
            "padding": null,
            "grid_auto_rows": null,
            "grid_gap": null,
            "max_width": null,
            "order": null,
            "_view_module_version": "1.2.0",
            "grid_template_areas": null,
            "object_position": null,
            "object_fit": null,
            "grid_auto_columns": null,
            "margin": null,
            "display": null,
            "left": null
          }
        },
        "032d9088cefe4a3582d9e213cfc94c33": {
          "model_module": "@jupyter-widgets/controls",
          "model_name": "DescriptionStyleModel",
          "state": {
            "_view_name": "StyleView",
            "_model_name": "DescriptionStyleModel",
            "description_width": "",
            "_view_module": "@jupyter-widgets/base",
            "_model_module_version": "1.5.0",
            "_view_count": null,
            "_view_module_version": "1.2.0",
            "_model_module": "@jupyter-widgets/controls"
          }
        },
        "01b5796b6b974a4fbf5056f5dd71c79f": {
          "model_module": "@jupyter-widgets/base",
          "model_name": "LayoutModel",
          "state": {
            "_view_name": "LayoutView",
            "grid_template_rows": null,
            "right": null,
            "justify_content": null,
            "_view_module": "@jupyter-widgets/base",
            "overflow": null,
            "_model_module_version": "1.2.0",
            "_view_count": null,
            "flex_flow": null,
            "width": null,
            "min_width": null,
            "border": null,
            "align_items": null,
            "bottom": null,
            "_model_module": "@jupyter-widgets/base",
            "top": null,
            "grid_column": null,
            "overflow_y": null,
            "overflow_x": null,
            "grid_auto_flow": null,
            "grid_area": null,
            "grid_template_columns": null,
            "flex": null,
            "_model_name": "LayoutModel",
            "justify_items": null,
            "grid_row": null,
            "max_height": null,
            "align_content": null,
            "visibility": null,
            "align_self": null,
            "height": null,
            "min_height": null,
            "padding": null,
            "grid_auto_rows": null,
            "grid_gap": null,
            "max_width": null,
            "order": null,
            "_view_module_version": "1.2.0",
            "grid_template_areas": null,
            "object_position": null,
            "object_fit": null,
            "grid_auto_columns": null,
            "margin": null,
            "display": null,
            "left": null
          }
        }
      }
    }
  },
  "cells": [
    {
      "cell_type": "markdown",
      "metadata": {
        "id": "kXNwfJ2yb9Nb",
        "colab_type": "text"
      },
      "source": [
        "Let's start with importing some standard packages. We will also change some global properties of matplotlib (the plotting package we will use) to make the figures more readable."
      ]
    },
    {
      "cell_type": "code",
      "metadata": {
        "id": "5s5wUsICPklO",
        "colab_type": "code",
        "colab": {}
      },
      "source": [
        "import torch\n",
        "import torchvision\n",
        "import torchvision.transforms as transforms\n",
        "from torch.utils.data import random_split, TensorDataset\n",
        "import matplotlib.pyplot as plt\n",
        "import numpy as np\n",
        "import math\n",
        "from timeit import default_timer as timer\n",
        "\n",
        "plt.rcParams['figure.figsize'] = (10.0, 8.0)\n",
        "plt.rcParams['font.size'] = 16"
      ],
      "execution_count": 1,
      "outputs": []
    },
    {
      "cell_type": "markdown",
      "metadata": {
        "id": "5JSP1w_meYCg",
        "colab_type": "text"
      },
      "source": [
        "Then, let's download the CIFAR-10 dataset. PyTorch provides a handy way to do it by means of a `torchvision.datasets` utility class. It returns a `torch.utils.data.Dataset` object, which basically is a list of items and labels as we defined in the lecture. You can check the [documentation](https://pytorch.org/docs/stable/data.html#module-torch.utils.data) and or experiment with it as we do below to understand how to use it. "
      ]
    },
    {
      "cell_type": "code",
      "metadata": {
        "id": "GiJNDBZoQQ-H",
        "colab_type": "code",
        "colab": {
          "base_uri": "https://localhost:8080/",
          "height": 188,
          "referenced_widgets": [
            "4f343d71ee4b4e48be5b71b555cc7663",
            "867476da16ba4843995acf3943b1983e",
            "4d82b81541634a6cbc18445375946d11",
            "c56323f9f4e24857a9a0faa5f96969a5",
            "5659fb3ea2b240dcb0a5f5b99bb2c1cd",
            "caf6f7ee1fca4fc18357a15d9db6d5bc",
            "032d9088cefe4a3582d9e213cfc94c33",
            "01b5796b6b974a4fbf5056f5dd71c79f"
          ]
        },
        "outputId": "59d9ecf7-0b6a-4cd6-c50c-268f28a08d01"
      },
      "source": [
        "num_classes = 10\n",
        "classes = ('plane', 'car', 'bird', 'cat',\n",
        "           'deer', 'dog', 'frog', 'horse', 'ship', 'truck')\n",
        "\n",
        "train_ds = torchvision.datasets.CIFAR10(root=\"/data/\", train=True, transform=transforms.ToTensor(), download=True)\n",
        "test_ds = torchvision.datasets.CIFAR10(root=\"/data/\", train=False, transform=transforms.ToTensor())\n",
        "\n",
        "train_ds"
      ],
      "execution_count": 2,
      "outputs": [
        {
          "output_type": "stream",
          "text": [
            "Downloading https://www.cs.toronto.edu/~kriz/cifar-10-python.tar.gz to /data/cifar-10-python.tar.gz\n"
          ],
          "name": "stdout"
        },
        {
          "output_type": "display_data",
          "data": {
            "application/vnd.jupyter.widget-view+json": {
              "model_id": "4f343d71ee4b4e48be5b71b555cc7663",
              "version_minor": 0,
              "version_major": 2
            },
            "text/plain": [
              "HBox(children=(FloatProgress(value=1.0, bar_style='info', max=1.0), HTML(value='')))"
            ]
          },
          "metadata": {
            "tags": []
          }
        },
        {
          "output_type": "stream",
          "text": [
            "Extracting /data/cifar-10-python.tar.gz to /data/\n"
          ],
          "name": "stdout"
        },
        {
          "output_type": "execute_result",
          "data": {
            "text/plain": [
              "Dataset CIFAR10\n",
              "    Number of datapoints: 50000\n",
              "    Root location: /data/\n",
              "    Split: Train\n",
              "    StandardTransform\n",
              "Transform: ToTensor()"
            ]
          },
          "metadata": {
            "tags": []
          },
          "execution_count": 2
        }
      ]
    },
    {
      "cell_type": "code",
      "metadata": {
        "id": "Pig3xs9PiObA",
        "colab_type": "code",
        "colab": {
          "base_uri": "https://localhost:8080/",
          "height": 34
        },
        "outputId": "1ab3e756-cfea-431e-f923-fb8d6fba2276"
      },
      "source": [
        "isinstance(train_ds, torch.utils.data.Dataset)"
      ],
      "execution_count": 3,
      "outputs": [
        {
          "output_type": "execute_result",
          "data": {
            "text/plain": [
              "True"
            ]
          },
          "metadata": {
            "tags": []
          },
          "execution_count": 3
        }
      ]
    },
    {
      "cell_type": "markdown",
      "metadata": {
        "id": "YttRkrkekbJ0",
        "colab_type": "text"
      },
      "source": [
        "You can index into a dataset, normally with an integer index as you would do with a list. "
      ]
    },
    {
      "cell_type": "code",
      "metadata": {
        "id": "bF5DOk_fkYBl",
        "colab_type": "code",
        "colab": {
          "base_uri": "https://localhost:8080/",
          "height": 51
        },
        "outputId": "5007a0de-0225-444e-98a7-ac68512fe65d"
      },
      "source": [
        "print(type(train_ds[0]))\n",
        "len(train_ds[0])"
      ],
      "execution_count": 4,
      "outputs": [
        {
          "output_type": "stream",
          "text": [
            "<class 'tuple'>\n"
          ],
          "name": "stdout"
        },
        {
          "output_type": "execute_result",
          "data": {
            "text/plain": [
              "2"
            ]
          },
          "metadata": {
            "tags": []
          },
          "execution_count": 4
        }
      ]
    },
    {
      "cell_type": "markdown",
      "metadata": {
        "id": "XDp9hQmxk5cF",
        "colab_type": "text"
      },
      "source": [
        "2 elements... probably the image and the label. Let's check the second, which should be the label."
      ]
    },
    {
      "cell_type": "code",
      "metadata": {
        "id": "4y5QrKKAkx0e",
        "colab_type": "code",
        "colab": {
          "base_uri": "https://localhost:8080/",
          "height": 34
        },
        "outputId": "dc128e27-a995-40e9-cf27-b039fabe7899"
      },
      "source": [
        "train_ds[0][1]"
      ],
      "execution_count": 5,
      "outputs": [
        {
          "output_type": "execute_result",
          "data": {
            "text/plain": [
              "6"
            ]
          },
          "metadata": {
            "tags": []
          },
          "execution_count": 5
        }
      ]
    },
    {
      "cell_type": "markdown",
      "metadata": {
        "id": "nt2v7ie-lDdM",
        "colab_type": "text"
      },
      "source": [
        "It's a 6! Well, let's use the list of classes we defined above to get something more meaningful "
      ]
    },
    {
      "cell_type": "code",
      "metadata": {
        "id": "8vxGRpRPlO0Q",
        "colab_type": "code",
        "colab": {
          "base_uri": "https://localhost:8080/",
          "height": 35
        },
        "outputId": "9316129d-d135-45b1-aee7-274b9717cd59"
      },
      "source": [
        "classes[train_ds[0][1]]"
      ],
      "execution_count": 6,
      "outputs": [
        {
          "output_type": "execute_result",
          "data": {
            "application/vnd.google.colaboratory.intrinsic+json": {
              "type": "string"
            },
            "text/plain": [
              "'frog'"
            ]
          },
          "metadata": {
            "tags": []
          },
          "execution_count": 6
        }
      ]
    },
    {
      "cell_type": "markdown",
      "metadata": {
        "id": "y9ISpgzblS0E",
        "colab_type": "text"
      },
      "source": [
        "It's a frog! Let's look at the image, then."
      ]
    },
    {
      "cell_type": "code",
      "metadata": {
        "id": "FvG_CrnRexNA",
        "colab_type": "code",
        "colab": {
          "base_uri": "https://localhost:8080/",
          "height": 416
        },
        "outputId": "870de612-4434-4e08-aad1-fd358ed30212"
      },
      "source": [
        "train_ds[0][0]"
      ],
      "execution_count": 7,
      "outputs": [
        {
          "output_type": "execute_result",
          "data": {
            "text/plain": [
              "tensor([[[0.2314, 0.1686, 0.1961,  ..., 0.6196, 0.5961, 0.5804],\n",
              "         [0.0627, 0.0000, 0.0706,  ..., 0.4824, 0.4667, 0.4784],\n",
              "         [0.0980, 0.0627, 0.1922,  ..., 0.4627, 0.4706, 0.4275],\n",
              "         ...,\n",
              "         [0.8157, 0.7882, 0.7765,  ..., 0.6275, 0.2196, 0.2078],\n",
              "         [0.7059, 0.6784, 0.7294,  ..., 0.7216, 0.3804, 0.3255],\n",
              "         [0.6941, 0.6588, 0.7020,  ..., 0.8471, 0.5922, 0.4824]],\n",
              "\n",
              "        [[0.2431, 0.1804, 0.1882,  ..., 0.5176, 0.4902, 0.4863],\n",
              "         [0.0784, 0.0000, 0.0314,  ..., 0.3451, 0.3255, 0.3412],\n",
              "         [0.0941, 0.0275, 0.1059,  ..., 0.3294, 0.3294, 0.2863],\n",
              "         ...,\n",
              "         [0.6667, 0.6000, 0.6314,  ..., 0.5216, 0.1216, 0.1333],\n",
              "         [0.5451, 0.4824, 0.5647,  ..., 0.5804, 0.2431, 0.2078],\n",
              "         [0.5647, 0.5059, 0.5569,  ..., 0.7216, 0.4627, 0.3608]],\n",
              "\n",
              "        [[0.2471, 0.1765, 0.1686,  ..., 0.4235, 0.4000, 0.4039],\n",
              "         [0.0784, 0.0000, 0.0000,  ..., 0.2157, 0.1961, 0.2235],\n",
              "         [0.0824, 0.0000, 0.0314,  ..., 0.1961, 0.1961, 0.1647],\n",
              "         ...,\n",
              "         [0.3765, 0.1333, 0.1020,  ..., 0.2745, 0.0275, 0.0784],\n",
              "         [0.3765, 0.1647, 0.1176,  ..., 0.3686, 0.1333, 0.1333],\n",
              "         [0.4549, 0.3686, 0.3412,  ..., 0.5490, 0.3294, 0.2824]]])"
            ]
          },
          "metadata": {
            "tags": []
          },
          "execution_count": 7
        }
      ]
    },
    {
      "cell_type": "markdown",
      "metadata": {
        "id": "VZJLIM8Nl3Pd",
        "colab_type": "text"
      },
      "source": [
        "Here is our fundamental problem again. Images are actually tensors in the computer. To visualize them as images we need some code, which is luckily provided by, for instance, the matplotlib package. Here is a simple function to visualize a tensor as an image."
      ]
    },
    {
      "cell_type": "code",
      "metadata": {
        "id": "r6FfAgyrQ3DM",
        "colab_type": "code",
        "colab": {
          "base_uri": "https://localhost:8080/",
          "height": 34
        },
        "outputId": "4c1b2b66-f647-4776-bdc3-54005747736d"
      },
      "source": [
        "%matplotlib inline\n",
        "def show(img):\n",
        "    npimg = img.numpy()\n",
        "    plt.imshow(np.transpose(npimg, (1,2,0)))\n",
        "    plt.axis('off')"
      ],
      "execution_count": 8,
      "outputs": [
        {
          "output_type": "stream",
          "text": [
            "\n"
          ],
          "name": "stdout"
        }
      ]
    },
    {
      "cell_type": "markdown",
      "metadata": {
        "id": "YVfD-7mwmJ28",
        "colab_type": "text"
      },
      "source": [
        "Armed with it, let's have a look at the first image"
      ]
    },
    {
      "cell_type": "code",
      "metadata": {
        "id": "sTlDcVRhmJWz",
        "colab_type": "code",
        "colab": {
          "base_uri": "https://localhost:8080/",
          "height": 248
        },
        "outputId": "3798b40f-09c9-429e-dc38-dc3961d99455"
      },
      "source": [
        "show(train_ds[0][0])"
      ],
      "execution_count": 9,
      "outputs": [
        {
          "output_type": "display_data",
          "data": {
            "image/png": "[encoded data removed]",
            "text/plain": [
              "<Figure size 432x288 with 1 Axes>"
            ]
          },
          "metadata": {
            "tags": [],
            "needs_background": "light"
          }
        }
      ]
    },
    {
      "cell_type": "markdown",
      "metadata": {
        "id": "d_eEZd1RmSX8",
        "colab_type": "text"
      },
      "source": [
        "It's a frog! Well, maybe. 32x32 images can be very ambiguous, also for humans. Let's visualize a few more images by using another pytorch utility function ` make_grid`\n",
        "\n"
      ]
    },
    {
      "cell_type": "code",
      "metadata": {
        "id": "09XKbSK3RPht",
        "colab_type": "code",
        "colab": {
          "base_uri": "https://localhost:8080/",
          "height": 237
        },
        "outputId": "a9fac385-ccf5-4fcf-e9b6-43261dec13bc"
      },
      "source": [
        "images = []\n",
        "labels = []\n",
        "for i in range(32):\n",
        "  images.append(train_ds[i][0])\n",
        "  labels.append(classes[train_ds[i][1]])\n",
        "print(labels)\n",
        "show(torchvision.utils.make_grid(images))"
      ],
      "execution_count": 10,
      "outputs": [
        {
          "output_type": "stream",
          "text": [
            "['frog', 'truck', 'truck', 'deer', 'car', 'car', 'bird', 'horse', 'ship', 'cat', 'deer', 'horse', 'horse', 'bird', 'truck', 'truck', 'truck', 'cat', 'bird', 'frog', 'deer', 'cat', 'frog', 'frog', 'bird', 'frog', 'cat', 'dog', 'deer', 'plane', 'plane', 'truck']\n"
          ],
          "name": "stdout"
        },
        {
          "output_type": "display_data",
          "data": {
            "image/png": "[encoded data removed]",
            "text/plain": [
              "<Figure size 432x288 with 1 Axes>"
            ]
          },
          "metadata": {
            "tags": [],
            "needs_background": "light"
          }
        }
      ]
    },
    {
      "cell_type": "code",
      "metadata": {
        "id": "RjpA7z0mCASK",
        "colab_type": "code",
        "colab": {}
      },
      "source": [
        ""
      ],
      "execution_count": 10,
      "outputs": []
    },
    {
      "cell_type": "markdown",
      "metadata": {
        "id": "Tb6--iIGn6vb",
        "colab_type": "text"
      },
      "source": [
        "CIFAR-10 does not define a **validation set**, so we have to create it. We randomly sample 5000 samples out of the 50000 images of the training set."
      ]
    },
    {
      "cell_type": "code",
      "metadata": {
        "id": "CksBFoCpc1h9",
        "colab_type": "code",
        "colab": {}
      },
      "source": [
        "splitted_datasets = torch.utils.data.random_split(train_ds, [45000, 5000])\n",
        "actual_train_subds = splitted_datasets[0]\n",
        "valid_subds = splitted_datasets[1]"
      ],
      "execution_count": 11,
      "outputs": []
    },
    {
      "cell_type": "markdown",
      "metadata": {
        "id": "E2JLewqUB5JD",
        "colab_type": "text"
      },
      "source": [
        "`Dataset`s are a useful utility, and we will use them in the upcoming lessons to create `DataLoader`s, and even more powerful and important concept.\n",
        "\n",
        "But in this exercise to keep things as simple as possible and focus on the k-NN classifier, I'll build a matrix of flattened images (=features) out of the `Dataset`s. \n",
        "\n",
        "Another important thing we are going to do while creating the matrices is to reduce the number of samples we will use in the next cells to develop and debug/test the classifier. This is usually a good practice and it will save you **a lot** of time. Don't worry, if it is not clear how we do all of this: you do not need to understand this code right now."
      ]
    },
    {
      "cell_type": "code",
      "metadata": {
        "id": "qvkXcTp082yo",
        "colab_type": "code",
        "colab": {
          "base_uri": "https://localhost:8080/",
          "height": 34
        },
        "outputId": "bbf2de50-928c-4945-92c9-aa4e436c76ca"
      },
      "source": [
        "def dataset_to_matrix(dset, limit=None):\n",
        "  x = torch.tensor(dset.data, dtype=torch.float32).permute(0, 3, 1, 2).div_(255)\n",
        "  x = x.reshape((x.shape[0], -1))\n",
        "  y = torch.tensor(dset.targets, dtype=torch.int64)\n",
        "  if limit is not None:\n",
        "    if limit <= 0 or limit > x.shape[0]:\n",
        "      raise ValueError(f'Invalid value limit={limit}; must be in the range [0, {x.shape[0]}]')\n",
        "    x = x[:limit].clone()\n",
        "    y = y[:limit].clone()\n",
        "  return x, y\n",
        "\n",
        "def subset_to_matrix(dset, limit=None):\n",
        "  x = torch.tensor(dset.dataset.data[dset.indices,], dtype=torch.float32).permute(0, 3, 1, 2).div_(255)\n",
        "  x = x.reshape((x.shape[0], -1))\n",
        "  y = torch.tensor(np.array(dset.dataset.targets)[dset.indices], dtype=torch.int64)\n",
        "  if limit is not None:\n",
        "    if limit <= 0 or limit > x.shape[0]:\n",
        "      raise ValueError(f'Invalid value limit={limit}; must be in the range [0, {x.shape[0]}]')\n",
        "    x = x[:limit].clone()\n",
        "    y = y[:limit].clone()\n",
        "  return x, y\n",
        "  \n",
        "train_features, train_labels = subset_to_matrix(actual_train_subds, 500)\n",
        "valid_features, valid_labels = subset_to_matrix(valid_subds, 100)\n",
        "test_features, test_labels = dataset_to_matrix(test_ds, 100)\n",
        "train_features.shape"
      ],
      "execution_count": 12,
      "outputs": [
        {
          "output_type": "execute_result",
          "data": {
            "text/plain": [
              "torch.Size([500, 3072])"
            ]
          },
          "metadata": {
            "tags": []
          },
          "execution_count": 12
        }
      ]
    },
    {
      "cell_type": "markdown",
      "metadata": {
        "id": "ZvcQEpY1D3o8",
        "colab_type": "text"
      },
      "source": [
        "Next we define a `class` to implement a k-NN classifier. It stores the train features and labels upon creation in the `__init__` method (\"training\" phase), and then computes the distance between (either the $L_2$ or the $L_1$ norm of the difference, according to the value of the parameter `p`)."
      ]
    },
    {
      "cell_type": "code",
      "metadata": {
        "id": "eycfFymaePDq",
        "colab_type": "code",
        "colab": {}
      },
      "source": [
        "class KnnClassifier:\n",
        "  def __init__(self, x_train, y_train):\n",
        "    \"\"\"\n",
        "    Creates a new K-Nearest Neighbor classifier with the specified training data.\n",
        "    \n",
        "    Inputs:\n",
        "    - x_train: Torch tensor of shape (n_train, D) storing training data\n",
        "    - y_train: int64 torch tensor of shape (n_train,) storing training labels\n",
        "    \"\"\"\n",
        "    self.x_train = x_train\n",
        "    self.y_train = y_train\n",
        "    \n",
        "  def predict(self, x_test, k=1, p=2):\n",
        "    \"\"\"\n",
        "    Make predictions using the classifier.\n",
        "\n",
        "    Inputs:\n",
        "    - x_test: Torch tensor of shape (n_test, D) storing test samples\n",
        "    - k: The number of neighbors to use for predictions\n",
        "    - p: The norm to use as distance\n",
        "\n",
        "    Returns:\n",
        "    - pred: Torch tensor of shape (n_test,) storing predicted labels\n",
        "      for the test samples.\n",
        "    - knn_indices: a list of length n_test, storing the indices of the kNN for each test sample, for visualization purposes\n",
        "    \"\"\"\n",
        "    \n",
        "    n_train = self.x_train.shape[0]\n",
        "    n_test = x_test.shape[0]\n",
        "    pred = torch.zeros(n_test, dtype=torch.int64)\n",
        "    # We also save a list of the k-NN indices for each test sample, to visualize them later\n",
        "    knn_indices = torch.zeros((n_test, k), dtype=torch.int64)\n",
        "\n",
        "    # this version based on broadcast requires too much memory for the full dataset\n",
        "    #dists = torch.norm((self.x_train.reshape((n_train, 1, -1)) - x_test.reshape(1, n_test, -1)), p=p, dim=2)\n",
        "    #_, knn_indices = torch.topk(dists, k, dim=1, largest=False)\n",
        "    for test_index in range(n_test):\n",
        "      test_vector = x_test[test_index,:]\n",
        "      dists = torch.norm((self.x_train - test_vector), p=p, dim=1)\n",
        "      _, indices = torch.topk(dists, k, largest=False)\n",
        "      pred[test_index] = torch.bincount(self.y_train[indices]).argmax()\n",
        "      knn_indices[test_index,:] = indices\n",
        "    return pred, knn_indices"
      ],
      "execution_count": 13,
      "outputs": []
    },
    {
      "cell_type": "markdown",
      "metadata": {
        "id": "gDhTyGjUAhuw",
        "colab_type": "text"
      },
      "source": [
        "We can then create one on the reduced datasets we are using for development and rapid testing, and, as a sanity check, predict the labels **again for the training set** for a specific values of its hyper-parameters, i.e. `k=1` and `p=2`."
      ]
    },
    {
      "cell_type": "code",
      "metadata": {
        "id": "zeIhpbXAqhOc",
        "colab_type": "code",
        "colab": {
          "base_uri": "https://localhost:8080/",
          "height": 34
        },
        "outputId": "de78cb08-5842-479c-cd59-0e51519bd340"
      },
      "source": [
        "small_knn = KnnClassifier(train_features, train_labels)\n",
        "predictions, _ = small_knn.predict(train_features, k=1)\n",
        "predictions.shape"
      ],
      "execution_count": 14,
      "outputs": [
        {
          "output_type": "execute_result",
          "data": {
            "text/plain": [
              "torch.Size([500])"
            ]
          },
          "metadata": {
            "tags": []
          },
          "execution_count": 14
        }
      ]
    },
    {
      "cell_type": "markdown",
      "metadata": {
        "id": "d8j47hMFA3Uh",
        "colab_type": "text"
      },
      "source": [
        "We then define a function to compute the accuracy of our classifier and measure it. Which value do you expect?"
      ]
    },
    {
      "cell_type": "code",
      "metadata": {
        "id": "J_jb3dyNRPOv",
        "colab_type": "code",
        "colab": {
          "base_uri": "https://localhost:8080/",
          "height": 34
        },
        "outputId": "59192b84-4c42-4419-ca16-0f1add20dec3"
      },
      "source": [
        "def accuracy(predictions, labels):\n",
        "    \"\"\"\n",
        "    Utility method to compute the accuracy of a classifier on test data.\n",
        "    \n",
        "    Inputs:\n",
        "    - pred: Torch tensor of shape (n_test,) storing classifier predictions\n",
        "    - labels: Torch tensor of shape (n_test,) storing labels\n",
        "\n",
        "    Returns:\n",
        "    - accuracy: Accuracy of this classifier on the test data\n",
        "    \"\"\"\n",
        "    n_samples = labels.shape[0]\n",
        "    n_correct = (labels == predictions).sum().item()\n",
        "    accuracy = n_correct / n_samples\n",
        "    \n",
        "    return n_correct, accuracy\n",
        "\n",
        "n_correct, acc = accuracy(predictions, train_labels)\n",
        "print(f'Got {n_correct} / {train_labels.shape[0]} correct classifications; accuracy is {acc:.3f}')\n",
        "    "
      ],
      "execution_count": 15,
      "outputs": [
        {
          "output_type": "stream",
          "text": [
            "Got 500 / 500 correct classifications; accuracy is 1.000\n"
          ],
          "name": "stdout"
        }
      ]
    },
    {
      "cell_type": "markdown",
      "metadata": {
        "id": "tO7bX3yFBVVU",
        "colab_type": "text"
      },
      "source": [
        "That's correct. A k-nn classifier **with k=1 and tested on the training set** should always achieve perfect accuracy. This is a clear example of overfitting, as we discussed. This partially validates the correctness of our implementation.\n",
        "\n",
        "Let's know find a more sensible values for the hyper-parameters, i.e. let's implement **model selection**."
      ]
    },
    {
      "cell_type": "code",
      "metadata": {
        "id": "imB_50ENRPKw",
        "colab_type": "code",
        "colab": {}
      },
      "source": [
        "def model_selection(knn, valid_features, valid_labels):\n",
        "  start = timer()\n",
        "  best_acc = 0\n",
        "  for k in [1,3,5,7,10,15,30]:\n",
        "    for p in [1,2]:\n",
        "      predictions, _ = knn.predict(valid_features, k=k, p=p)\n",
        "      n_correct, acc = accuracy(predictions, valid_labels)\n",
        "      print(f\"acc {acc:.3f}, k={k}, p={p}\")\n",
        "      if acc > best_acc:\n",
        "        print(f\" - Found new best accuracy\")\n",
        "        best_acc = acc\n",
        "        best_pred = predictions\n",
        "        best_k = k\n",
        "        best_p = p\n",
        "  end = timer()\n",
        "  print(f\"Elapsed time (s): {end-start:.3f}\")\n",
        "  return best_k,best_p\n",
        "\n"
      ],
      "execution_count": 16,
      "outputs": []
    },
    {
      "cell_type": "markdown",
      "metadata": {
        "id": "NpC88_8dB5vB",
        "colab_type": "text"
      },
      "source": [
        "To validated it, let's first run it again on the training set. We expect to obtain the best accuracy for `k=1` and the first metric we try (`p=1` in our implementation), and to see the accuracy decreasing as we grow `k`."
      ]
    },
    {
      "cell_type": "code",
      "metadata": {
        "id": "T8TSdK3lCXYK",
        "colab_type": "code",
        "colab": {
          "base_uri": "https://localhost:8080/",
          "height": 312
        },
        "outputId": "39aa33c7-ca58-4bc9-d4c2-206152fe6718"
      },
      "source": [
        "model_selection(small_knn, train_features, train_labels)"
      ],
      "execution_count": 17,
      "outputs": [
        {
          "output_type": "stream",
          "text": [
            "acc 1.000, k=1, p=1\n",
            " - Found new best accuracy\n",
            "acc 1.000, k=1, p=2\n",
            "acc 0.590, k=3, p=1\n",
            "acc 0.566, k=3, p=2\n",
            "acc 0.452, k=5, p=1\n",
            "acc 0.446, k=5, p=2\n",
            "acc 0.416, k=7, p=1\n",
            "acc 0.396, k=7, p=2\n",
            "acc 0.368, k=10, p=1\n",
            "acc 0.338, k=10, p=2\n",
            "acc 0.338, k=15, p=1\n",
            "acc 0.320, k=15, p=2\n",
            "acc 0.294, k=30, p=1\n",
            "acc 0.278, k=30, p=2\n",
            "Elapsed time (s): 30.384643595\n"
          ],
          "name": "stdout"
        },
        {
          "output_type": "execute_result",
          "data": {
            "text/plain": [
              "(1, 1)"
            ]
          },
          "metadata": {
            "tags": []
          },
          "execution_count": 17
        }
      ]
    },
    {
      "cell_type": "markdown",
      "metadata": {
        "id": "cZe7T47VCYaL",
        "colab_type": "text"
      },
      "source": [
        "Good. Know let's run it for real, on the validation set. Here we do not know what to expect as a result (otherwise we wouldn't run model selection!) but we should see values for the accuracy which do not vary too wildly, with a peak and a slowly declining tail of values, if our implementation is correct."
      ]
    },
    {
      "cell_type": "code",
      "metadata": {
        "id": "SIxJY3sSwCun",
        "colab_type": "code",
        "colab": {
          "base_uri": "https://localhost:8080/",
          "height": 329
        },
        "outputId": "835bff93-8f1c-48c0-cf9a-ddda15277eb6"
      },
      "source": [
        "model_selection(small_knn, valid_features, valid_labels)"
      ],
      "execution_count": 18,
      "outputs": [
        {
          "output_type": "stream",
          "text": [
            "acc 0.300, k=1, p=1\n",
            " - Found new best accuracy\n",
            "acc 0.330, k=1, p=2\n",
            " - Found new best accuracy\n",
            "acc 0.310, k=3, p=1\n",
            "acc 0.320, k=3, p=2\n",
            "acc 0.270, k=5, p=1\n",
            "acc 0.290, k=5, p=2\n",
            "acc 0.300, k=7, p=1\n",
            "acc 0.250, k=7, p=2\n",
            "acc 0.300, k=10, p=1\n",
            "acc 0.260, k=10, p=2\n",
            "acc 0.270, k=15, p=1\n",
            "acc 0.300, k=15, p=2\n",
            "acc 0.240, k=30, p=1\n",
            "acc 0.260, k=30, p=2\n",
            "Elapsed time (s): 6.156292699000005\n"
          ],
          "name": "stdout"
        },
        {
          "output_type": "execute_result",
          "data": {
            "text/plain": [
              "(1, 2)"
            ]
          },
          "metadata": {
            "tags": []
          },
          "execution_count": 18
        }
      ]
    },
    {
      "cell_type": "markdown",
      "metadata": {
        "id": "Ng2lGYvNCkDT",
        "colab_type": "text"
      },
      "source": [
        "Happy with the results, we can now run it on the full dataset. This will take a while (about 5 hours), be patient (and read a paper in the meanwhile)."
      ]
    },
    {
      "cell_type": "code",
      "metadata": {
        "id": "nhDqc88B8whQ",
        "colab_type": "code",
        "colab": {}
      },
      "source": [
        "train_features, train_labels = subset_to_matrix(actual_train_subds)\n",
        "valid_features, valid_labels = subset_to_matrix(valid_subds)\n",
        "test_features, test_labels = dataset_to_matrix(test_ds)"
      ],
      "execution_count": 19,
      "outputs": []
    },
    {
      "cell_type": "code",
      "metadata": {
        "id": "v7HOppp6WGS0",
        "colab_type": "code",
        "colab": {
          "base_uri": "https://localhost:8080/",
          "height": 34
        },
        "outputId": "67240d64-be82-4d08-8b7f-b5d8274edc83"
      },
      "source": [
        "# commenting this out to show results in class\n",
        "#valid_knn = KnnClassifier(train_features, train_labels)\n",
        "#best_k, best_p = model_selection(valid_knn, valid_features, valid_labels)\n",
        "best_k, best_p = 7,1\n",
        "best_k, best_p"
      ],
      "execution_count": 23,
      "outputs": [
        {
          "output_type": "execute_result",
          "data": {
            "text/plain": [
              "(7, 1)"
            ]
          },
          "metadata": {
            "tags": []
          },
          "execution_count": 23
        }
      ]
    },
    {
      "cell_type": "markdown",
      "metadata": {
        "id": "MAxZYOehkwDd",
        "colab_type": "text"
      },
      "source": [
        "Having selected the best model, we can finally run it on the test set. As training set, we can now use the full training set, putting back into it the held-out dataset we used for validation."
      ]
    },
    {
      "cell_type": "code",
      "metadata": {
        "id": "ShJ3SYWrkvOB",
        "colab_type": "code",
        "colab": {}
      },
      "source": [
        "train_valid_features = torch.cat((train_features, valid_features))\n",
        "train_valid_labels = torch.cat((train_labels, valid_labels))\n",
        "start = timer()\n",
        "final_knn = KnnClassifier(train_valid_features, train_valid_labels)\n",
        "predictions, knn_indices = final_knn.predict(test_features, best_k, best_p)\n",
        "end = timer()\n",
        "n_correct, acc = accuracy(predictions, test_labels)\n",
        "print(f'Got {n_correct} / {test_labels.shape[0]} correct classifications; accuracy is {acc:.3f} (elapsed time (s): {end-start:.3f})')"
      ],
      "execution_count": null,
      "outputs": []
    },
    {
      "cell_type": "markdown",
      "metadata": {
        "id": "tkbqBG_zlviS",
        "colab_type": "text"
      },
      "source": [
        "and visualize some of its predictions together with the nearest neighbors used to compute it."
      ]
    },
    {
      "cell_type": "code",
      "metadata": {
        "id": "-rC9l14olvEb",
        "colab_type": "code",
        "colab": {}
      },
      "source": [
        "def show_predictions(train_valid_features, train_valid_labels, test_features, test_labels, knn_indices, predictions):\n",
        "  n_classes = 10\n",
        "  for i in range(n_classes):\n",
        "    sample_indices = torch.nonzero(test_labels == i)\n",
        "    plt.subplot(knn_indices.shape[1]+1, n_classes, i+1)\n",
        "    show(test_features[sample_indices[0], :].reshape(3,32,32))\n",
        "    plt.title(classes[i] + \"\\n\" + classes[predictions[sample_indices[0]]])\n",
        "    for j in range(knn_indices.shape[1]):\n",
        "      plt.subplot(knn_indices.shape[1]+1, n_classes, (j+1)*n_classes + (i+1))\n",
        "      train_index = knn_indices[sample_indices[0],j]\n",
        "      plt.title(classes[train_valid_labels[train_index].item()])\n",
        "      show(train_valid_features[train_index].reshape(3,32,32))\n",
        "    plt.subplots_adjust(hspace = 0.6) \n",
        "show_predictions(train_valid_features, train_valid_labels, test_features, test_labels, knn_indices, predictions)\n"
      ],
      "execution_count": null,
      "outputs": []
    },
    {
      "cell_type": "markdown",
      "metadata": {
        "id": "tgfII6Yz-28s",
        "colab_type": "text"
      },
      "source": [
        "# That's all, folks"
      ]
    }
  ]
}